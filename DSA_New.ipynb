{
 "cells": [
  {
   "cell_type": "code",
   "execution_count": 1,
   "metadata": {},
   "outputs": [
    {
     "name": "stdout",
     "output_type": "stream",
     "text": [
      "Requirement already satisfied: requests in c:\\users\\mwill\\appdata\\local\\programs\\python\\python311\\lib\\site-packages (2.32.3)\n",
      "Requirement already satisfied: charset-normalizer<4,>=2 in c:\\users\\mwill\\appdata\\local\\programs\\python\\python311\\lib\\site-packages (from requests) (3.4.1)\n",
      "Requirement already satisfied: idna<4,>=2.5 in c:\\users\\mwill\\appdata\\local\\programs\\python\\python311\\lib\\site-packages (from requests) (3.10)\n",
      "Requirement already satisfied: urllib3<3,>=1.21.1 in c:\\users\\mwill\\appdata\\local\\programs\\python\\python311\\lib\\site-packages (from requests) (2.3.0)\n",
      "Requirement already satisfied: certifi>=2017.4.17 in c:\\users\\mwill\\appdata\\local\\programs\\python\\python311\\lib\\site-packages (from requests) (2024.12.14)\n",
      "Note: you may need to restart the kernel to use updated packages.\n"
     ]
    },
    {
     "name": "stderr",
     "output_type": "stream",
     "text": [
      "\n",
      "[notice] A new release of pip available: 22.3.1 -> 24.3.1\n",
      "[notice] To update, run: python.exe -m pip install --upgrade pip\n"
     ]
    }
   ],
   "source": [
    "pip install requests"
   ]
  },
  {
   "cell_type": "code",
   "execution_count": 2,
   "metadata": {},
   "outputs": [
    {
     "name": "stdout",
     "output_type": "stream",
     "text": [
      "CSV file downloaded successfully.\n"
     ]
    }
   ],
   "source": [
    "import pandas as pd\n",
    "import requests\n",
    "url = 'https://raw.githubusercontent.com/willlieeee/dsa-monkeypox/refs/heads/main/DATA.csv'\n",
    "response = requests.get(url)\n",
    "\n",
    "if response.status_code == 200:\n",
    "    with open('database_monkeypox.csv', 'wb') as file:\n",
    "        file.write(response.content)\n",
    "    print(\"CSV file downloaded successfully.\")\n",
    "else:\n",
    "    print(f\"Failed to download file. Status code: {response.status_code}\")"
   ]
  },
  {
   "cell_type": "code",
   "execution_count": 3,
   "metadata": {
    "colab": {
     "base_uri": "https://localhost:8080/"
    },
    "id": "erj_PoMdU4lo",
    "outputId": "64bf1fef-be3c-4380-f6e6-7fb2d33ca702"
   },
   "outputs": [
    {
     "data": {
      "text/plain": [
       "True"
      ]
     },
     "execution_count": 3,
     "metadata": {},
     "output_type": "execute_result"
    }
   ],
   "source": [
    "from os import path\n",
    "path.exists(r\"database_monkeypox.csv\")"
   ]
  },
  {
   "cell_type": "markdown",
   "metadata": {
    "id": "Qw_CGVVtqcLN"
   },
   "source": [
    "# Library and CSV"
   ]
  },
  {
   "cell_type": "markdown",
   "metadata": {
    "id": "xqwTsNexX9Ae"
   },
   "source": [
    "***library***"
   ]
  },
  {
   "cell_type": "code",
   "execution_count": 4,
   "metadata": {},
   "outputs": [
    {
     "name": "stdout",
     "output_type": "stream",
     "text": [
      "Library requirements file downloaded successfully. Please install the required libraries using the command 'pip install -r requirements.txt'\n"
     ]
    }
   ],
   "source": [
    "url = 'https://raw.githubusercontent.com/willlieeee/dsa-monkeypox/refs/heads/main/requirements.txt'\n",
    "response = requests.get(url)\n",
    "\n",
    "if response.status_code == 200:\n",
    "    with open('requirements.txt', 'wb') as file:\n",
    "        file.write(response.content)\n",
    "    print(\"Library requirements file downloaded successfully. Please install the required libraries using the command 'pip install -r requirements.txt'\")\n",
    "else:\n",
    "    print(f\"Failed to download file. Status code: {response.status_code}\")"
   ]
  },
  {
   "cell_type": "code",
   "execution_count": 5,
   "metadata": {},
   "outputs": [
    {
     "name": "stdout",
     "output_type": "stream",
     "text": [
      "Requirement already satisfied: pandas==2.2.3 in c:\\users\\mwill\\appdata\\local\\programs\\python\\python311\\lib\\site-packages (from -r requirements.txt (line 1)) (2.2.3)\n",
      "Requirement already satisfied: numpy==2.1.3 in c:\\users\\mwill\\appdata\\local\\programs\\python\\python311\\lib\\site-packages (from -r requirements.txt (line 2)) (2.1.3)\n",
      "Requirement already satisfied: matplotlib==3.9.2 in c:\\users\\mwill\\appdata\\local\\programs\\python\\python311\\lib\\site-packages (from -r requirements.txt (line 3)) (3.9.2)\n",
      "Requirement already satisfied: seaborn==0.13.2 in c:\\users\\mwill\\appdata\\local\\programs\\python\\python311\\lib\\site-packages (from -r requirements.txt (line 4)) (0.13.2)\n",
      "Requirement already satisfied: scikit-learn==1.5.2 in c:\\users\\mwill\\appdata\\local\\programs\\python\\python311\\lib\\site-packages (from -r requirements.txt (line 5)) (1.5.2)\n",
      "Requirement already satisfied: statsmodels==0.14.4 in c:\\users\\mwill\\appdata\\local\\programs\\python\\python311\\lib\\site-packages (from -r requirements.txt (line 6)) (0.14.4)\n",
      "Requirement already satisfied: pathlib==1.0.1 in c:\\users\\mwill\\appdata\\local\\programs\\python\\python311\\lib\\site-packages (from -r requirements.txt (line 7)) (1.0.1)\n",
      "Requirement already satisfied: scipy==1.14.1 in c:\\users\\mwill\\appdata\\local\\programs\\python\\python311\\lib\\site-packages (from -r requirements.txt (line 8)) (1.14.1)\n",
      "Requirement already satisfied: plotly==5.24.1 in c:\\users\\mwill\\appdata\\local\\programs\\python\\python311\\lib\\site-packages (from -r requirements.txt (line 9)) (5.24.1)\n",
      "Requirement already satisfied: requests in c:\\users\\mwill\\appdata\\local\\programs\\python\\python311\\lib\\site-packages (from -r requirements.txt (line 10)) (2.32.3)\n",
      "Requirement already satisfied: python-dateutil>=2.8.2 in c:\\users\\mwill\\appdata\\local\\programs\\python\\python311\\lib\\site-packages (from pandas==2.2.3->-r requirements.txt (line 1)) (2.8.2)\n",
      "Requirement already satisfied: pytz>=2020.1 in c:\\users\\mwill\\appdata\\local\\programs\\python\\python311\\lib\\site-packages (from pandas==2.2.3->-r requirements.txt (line 1)) (2024.2)\n",
      "Requirement already satisfied: tzdata>=2022.7 in c:\\users\\mwill\\appdata\\local\\programs\\python\\python311\\lib\\site-packages (from pandas==2.2.3->-r requirements.txt (line 1)) (2024.2)\n",
      "Requirement already satisfied: contourpy>=1.0.1 in c:\\users\\mwill\\appdata\\local\\programs\\python\\python311\\lib\\site-packages (from matplotlib==3.9.2->-r requirements.txt (line 3)) (1.0.6)\n",
      "Requirement already satisfied: cycler>=0.10 in c:\\users\\mwill\\appdata\\local\\programs\\python\\python311\\lib\\site-packages (from matplotlib==3.9.2->-r requirements.txt (line 3)) (0.11.0)\n",
      "Requirement already satisfied: fonttools>=4.22.0 in c:\\users\\mwill\\appdata\\local\\programs\\python\\python311\\lib\\site-packages (from matplotlib==3.9.2->-r requirements.txt (line 3)) (4.38.0)\n",
      "Requirement already satisfied: kiwisolver>=1.3.1 in c:\\users\\mwill\\appdata\\local\\programs\\python\\python311\\lib\\site-packages (from matplotlib==3.9.2->-r requirements.txt (line 3)) (1.4.4)\n",
      "Requirement already satisfied: packaging>=20.0 in c:\\users\\mwill\\appdata\\local\\programs\\python\\python311\\lib\\site-packages (from matplotlib==3.9.2->-r requirements.txt (line 3)) (22.0)\n",
      "Requirement already satisfied: pillow>=8 in c:\\users\\mwill\\appdata\\local\\programs\\python\\python311\\lib\\site-packages (from matplotlib==3.9.2->-r requirements.txt (line 3)) (9.3.0)\n",
      "Requirement already satisfied: pyparsing>=2.3.1 in c:\\users\\mwill\\appdata\\local\\programs\\python\\python311\\lib\\site-packages (from matplotlib==3.9.2->-r requirements.txt (line 3)) (3.0.9)\n",
      "Requirement already satisfied: joblib>=1.2.0 in c:\\users\\mwill\\appdata\\local\\programs\\python\\python311\\lib\\site-packages (from scikit-learn==1.5.2->-r requirements.txt (line 5)) (1.4.2)\n",
      "Requirement already satisfied: threadpoolctl>=3.1.0 in c:\\users\\mwill\\appdata\\local\\programs\\python\\python311\\lib\\site-packages (from scikit-learn==1.5.2->-r requirements.txt (line 5)) (3.5.0)\n",
      "Requirement already satisfied: patsy>=0.5.6 in c:\\users\\mwill\\appdata\\local\\programs\\python\\python311\\lib\\site-packages (from statsmodels==0.14.4->-r requirements.txt (line 6)) (1.0.1)\n",
      "Requirement already satisfied: tenacity>=6.2.0 in c:\\users\\mwill\\appdata\\local\\programs\\python\\python311\\lib\\site-packages (from plotly==5.24.1->-r requirements.txt (line 9)) (9.0.0)\n",
      "Requirement already satisfied: charset-normalizer<4,>=2 in c:\\users\\mwill\\appdata\\local\\programs\\python\\python311\\lib\\site-packages (from requests->-r requirements.txt (line 10)) (3.4.1)\n",
      "Requirement already satisfied: idna<4,>=2.5 in c:\\users\\mwill\\appdata\\local\\programs\\python\\python311\\lib\\site-packages (from requests->-r requirements.txt (line 10)) (3.10)\n",
      "Requirement already satisfied: urllib3<3,>=1.21.1 in c:\\users\\mwill\\appdata\\local\\programs\\python\\python311\\lib\\site-packages (from requests->-r requirements.txt (line 10)) (2.3.0)\n",
      "Requirement already satisfied: certifi>=2017.4.17 in c:\\users\\mwill\\appdata\\local\\programs\\python\\python311\\lib\\site-packages (from requests->-r requirements.txt (line 10)) (2024.12.14)\n",
      "Requirement already satisfied: six>=1.5 in c:\\users\\mwill\\appdata\\local\\programs\\python\\python311\\lib\\site-packages (from python-dateutil>=2.8.2->pandas==2.2.3->-r requirements.txt (line 1)) (1.16.0)\n",
      "Note: you may need to restart the kernel to use updated packages.\n"
     ]
    },
    {
     "name": "stderr",
     "output_type": "stream",
     "text": [
      "\n",
      "[notice] A new release of pip available: 22.3.1 -> 24.3.1\n",
      "[notice] To update, run: python.exe -m pip install --upgrade pip\n"
     ]
    }
   ],
   "source": [
    "pip install -r requirements.txt"
   ]
  },
  {
   "cell_type": "markdown",
   "metadata": {},
   "source": [
    "***import library***"
   ]
  },
  {
   "cell_type": "code",
   "execution_count": 6,
   "metadata": {
    "id": "LhkaXZ6zmooX"
   },
   "outputs": [],
   "source": [
    "import pandas as pd\n",
    "import numpy as np\n",
    "import matplotlib.pyplot as plt\n",
    "import seaborn as sns\n",
    "import os\n",
    "import pickle\n",
    "import plotly.graph_objects as go\n",
    "import plotly.express as px\n",
    "import statsmodels.api as sm\n",
    "from sklearn.preprocessing import LabelEncoder, StandardScaler\n",
    "from statsmodels.graphics.mosaicplot import mosaic\n",
    "from sklearn.model_selection import train_test_split\n",
    "from sklearn.linear_model import LogisticRegression, LinearRegression\n",
    "from sklearn.ensemble import RandomForestClassifier, GradientBoostingClassifier\n",
    "from sklearn.metrics import confusion_matrix, classification_report, accuracy_score, roc_curve, auc, mean_squared_error, r2_score\n",
    "from pathlib import Path\n",
    "from scipy.stats import chi2_contingency"
   ]
  },
  {
   "cell_type": "markdown",
   "metadata": {},
   "source": [
    "***variable for saving output***"
   ]
  },
  {
   "cell_type": "code",
   "execution_count": 7,
   "metadata": {},
   "outputs": [
    {
     "name": "stdout",
     "output_type": "stream",
     "text": [
      "Folder 'output' already exists.\n"
     ]
    }
   ],
   "source": [
    "import os\n",
    "\n",
    "output_folder = 'output'\n",
    "\n",
    "if not os.path.exists(output_folder):\n",
    "    os.makedirs(output_folder)\n",
    "    print(f\"Folder '{output_folder}' created successfully.\")\n",
    "else:\n",
    "    print(f\"Folder '{output_folder}' already exists.\")"
   ]
  },
  {
   "cell_type": "markdown",
   "metadata": {},
   "source": [
    "# CSV and column"
   ]
  },
  {
   "cell_type": "markdown",
   "metadata": {
    "id": "rwjFcFU1YH8P"
   },
   "source": [
    "***reading CSV and cut column***"
   ]
  },
  {
   "cell_type": "code",
   "execution_count": 8,
   "metadata": {
    "colab": {
     "base_uri": "https://localhost:8080/",
     "height": 582
    },
    "id": "YEmzlDOzoLNt",
    "outputId": "c0c6a971-8fb9-4c4e-ffc0-32a1991800ed"
   },
   "outputs": [
    {
     "data": {
      "text/html": [
       "<div>\n",
       "<style scoped>\n",
       "    .dataframe tbody tr th:only-of-type {\n",
       "        vertical-align: middle;\n",
       "    }\n",
       "\n",
       "    .dataframe tbody tr th {\n",
       "        vertical-align: top;\n",
       "    }\n",
       "\n",
       "    .dataframe thead th {\n",
       "        text-align: right;\n",
       "    }\n",
       "</style>\n",
       "<table border=\"1\" class=\"dataframe\">\n",
       "  <thead>\n",
       "    <tr style=\"text-align: right;\">\n",
       "      <th></th>\n",
       "      <th>Patient_ID</th>\n",
       "      <th>Systemic Illness</th>\n",
       "      <th>Rectal Pain</th>\n",
       "      <th>Sore Throat</th>\n",
       "      <th>Penile Oedema</th>\n",
       "      <th>Oral Lesions</th>\n",
       "      <th>Solitary Lesion</th>\n",
       "      <th>Swollen Tonsils</th>\n",
       "      <th>HIV Infection</th>\n",
       "      <th>Sexually Transmitted Infection</th>\n",
       "      <th>MonkeyPox</th>\n",
       "    </tr>\n",
       "  </thead>\n",
       "  <tbody>\n",
       "    <tr>\n",
       "      <th>0</th>\n",
       "      <td>P0</td>\n",
       "      <td>NaN</td>\n",
       "      <td>False</td>\n",
       "      <td>True</td>\n",
       "      <td>True</td>\n",
       "      <td>True</td>\n",
       "      <td>False</td>\n",
       "      <td>True</td>\n",
       "      <td>False</td>\n",
       "      <td>False</td>\n",
       "      <td>Negative</td>\n",
       "    </tr>\n",
       "    <tr>\n",
       "      <th>1</th>\n",
       "      <td>P1</td>\n",
       "      <td>Fever</td>\n",
       "      <td>True</td>\n",
       "      <td>False</td>\n",
       "      <td>True</td>\n",
       "      <td>True</td>\n",
       "      <td>False</td>\n",
       "      <td>False</td>\n",
       "      <td>True</td>\n",
       "      <td>False</td>\n",
       "      <td>Positive</td>\n",
       "    </tr>\n",
       "    <tr>\n",
       "      <th>2</th>\n",
       "      <td>P2</td>\n",
       "      <td>Fever</td>\n",
       "      <td>False</td>\n",
       "      <td>True</td>\n",
       "      <td>True</td>\n",
       "      <td>False</td>\n",
       "      <td>False</td>\n",
       "      <td>False</td>\n",
       "      <td>True</td>\n",
       "      <td>False</td>\n",
       "      <td>Positive</td>\n",
       "    </tr>\n",
       "    <tr>\n",
       "      <th>3</th>\n",
       "      <td>P3</td>\n",
       "      <td>NaN</td>\n",
       "      <td>True</td>\n",
       "      <td>False</td>\n",
       "      <td>False</td>\n",
       "      <td>False</td>\n",
       "      <td>True</td>\n",
       "      <td>True</td>\n",
       "      <td>True</td>\n",
       "      <td>False</td>\n",
       "      <td>Positive</td>\n",
       "    </tr>\n",
       "    <tr>\n",
       "      <th>4</th>\n",
       "      <td>P4</td>\n",
       "      <td>Swollen Lymph Nodes</td>\n",
       "      <td>True</td>\n",
       "      <td>True</td>\n",
       "      <td>True</td>\n",
       "      <td>False</td>\n",
       "      <td>False</td>\n",
       "      <td>True</td>\n",
       "      <td>True</td>\n",
       "      <td>False</td>\n",
       "      <td>Positive</td>\n",
       "    </tr>\n",
       "    <tr>\n",
       "      <th>...</th>\n",
       "      <td>...</td>\n",
       "      <td>...</td>\n",
       "      <td>...</td>\n",
       "      <td>...</td>\n",
       "      <td>...</td>\n",
       "      <td>...</td>\n",
       "      <td>...</td>\n",
       "      <td>...</td>\n",
       "      <td>...</td>\n",
       "      <td>...</td>\n",
       "      <td>...</td>\n",
       "    </tr>\n",
       "    <tr>\n",
       "      <th>24995</th>\n",
       "      <td>P24995</td>\n",
       "      <td>NaN</td>\n",
       "      <td>True</td>\n",
       "      <td>True</td>\n",
       "      <td>False</td>\n",
       "      <td>True</td>\n",
       "      <td>True</td>\n",
       "      <td>False</td>\n",
       "      <td>False</td>\n",
       "      <td>True</td>\n",
       "      <td>Positive</td>\n",
       "    </tr>\n",
       "    <tr>\n",
       "      <th>24996</th>\n",
       "      <td>P24996</td>\n",
       "      <td>Fever</td>\n",
       "      <td>False</td>\n",
       "      <td>True</td>\n",
       "      <td>True</td>\n",
       "      <td>False</td>\n",
       "      <td>True</td>\n",
       "      <td>True</td>\n",
       "      <td>True</td>\n",
       "      <td>True</td>\n",
       "      <td>Positive</td>\n",
       "    </tr>\n",
       "    <tr>\n",
       "      <th>24997</th>\n",
       "      <td>P24997</td>\n",
       "      <td>NaN</td>\n",
       "      <td>True</td>\n",
       "      <td>True</td>\n",
       "      <td>False</td>\n",
       "      <td>False</td>\n",
       "      <td>True</td>\n",
       "      <td>True</td>\n",
       "      <td>False</td>\n",
       "      <td>False</td>\n",
       "      <td>Positive</td>\n",
       "    </tr>\n",
       "    <tr>\n",
       "      <th>24998</th>\n",
       "      <td>P24998</td>\n",
       "      <td>Swollen Lymph Nodes</td>\n",
       "      <td>False</td>\n",
       "      <td>True</td>\n",
       "      <td>False</td>\n",
       "      <td>True</td>\n",
       "      <td>True</td>\n",
       "      <td>True</td>\n",
       "      <td>False</td>\n",
       "      <td>False</td>\n",
       "      <td>Negative</td>\n",
       "    </tr>\n",
       "    <tr>\n",
       "      <th>24999</th>\n",
       "      <td>P24999</td>\n",
       "      <td>Swollen Lymph Nodes</td>\n",
       "      <td>False</td>\n",
       "      <td>False</td>\n",
       "      <td>True</td>\n",
       "      <td>False</td>\n",
       "      <td>False</td>\n",
       "      <td>True</td>\n",
       "      <td>True</td>\n",
       "      <td>False</td>\n",
       "      <td>Positive</td>\n",
       "    </tr>\n",
       "  </tbody>\n",
       "</table>\n",
       "<p>25000 rows × 11 columns</p>\n",
       "</div>"
      ],
      "text/plain": [
       "      Patient_ID     Systemic Illness  Rectal Pain  Sore Throat  \\\n",
       "0             P0                  NaN        False         True   \n",
       "1             P1                Fever         True        False   \n",
       "2             P2                Fever        False         True   \n",
       "3             P3                  NaN         True        False   \n",
       "4             P4  Swollen Lymph Nodes         True         True   \n",
       "...          ...                  ...          ...          ...   \n",
       "24995     P24995                  NaN         True         True   \n",
       "24996     P24996                Fever        False         True   \n",
       "24997     P24997                  NaN         True         True   \n",
       "24998     P24998  Swollen Lymph Nodes        False         True   \n",
       "24999     P24999  Swollen Lymph Nodes        False        False   \n",
       "\n",
       "       Penile Oedema  Oral Lesions  Solitary Lesion  Swollen Tonsils  \\\n",
       "0               True          True            False             True   \n",
       "1               True          True            False            False   \n",
       "2               True         False            False            False   \n",
       "3              False         False             True             True   \n",
       "4               True         False            False             True   \n",
       "...              ...           ...              ...              ...   \n",
       "24995          False          True             True            False   \n",
       "24996           True         False             True             True   \n",
       "24997          False         False             True             True   \n",
       "24998          False          True             True             True   \n",
       "24999           True         False            False             True   \n",
       "\n",
       "       HIV Infection  Sexually Transmitted Infection MonkeyPox  \n",
       "0              False                           False  Negative  \n",
       "1               True                           False  Positive  \n",
       "2               True                           False  Positive  \n",
       "3               True                           False  Positive  \n",
       "4               True                           False  Positive  \n",
       "...              ...                             ...       ...  \n",
       "24995          False                            True  Positive  \n",
       "24996           True                            True  Positive  \n",
       "24997          False                           False  Positive  \n",
       "24998          False                           False  Negative  \n",
       "24999           True                           False  Positive  \n",
       "\n",
       "[25000 rows x 11 columns]"
      ]
     },
     "execution_count": 8,
     "metadata": {},
     "output_type": "execute_result"
    }
   ],
   "source": [
    "mp1 = pd.read_csv(r\"database_monkeypox.csv\")\n",
    "mp1"
   ]
  },
  {
   "cell_type": "markdown",
   "metadata": {},
   "source": [
    "**filtering MonkeyPox == Positive**"
   ]
  },
  {
   "cell_type": "code",
   "execution_count": 9,
   "metadata": {},
   "outputs": [
    {
     "data": {
      "text/html": [
       "<div>\n",
       "<style scoped>\n",
       "    .dataframe tbody tr th:only-of-type {\n",
       "        vertical-align: middle;\n",
       "    }\n",
       "\n",
       "    .dataframe tbody tr th {\n",
       "        vertical-align: top;\n",
       "    }\n",
       "\n",
       "    .dataframe thead th {\n",
       "        text-align: right;\n",
       "    }\n",
       "</style>\n",
       "<table border=\"1\" class=\"dataframe\">\n",
       "  <thead>\n",
       "    <tr style=\"text-align: right;\">\n",
       "      <th></th>\n",
       "      <th>Patient_ID</th>\n",
       "      <th>Systemic Illness</th>\n",
       "      <th>Rectal Pain</th>\n",
       "      <th>Sore Throat</th>\n",
       "      <th>Penile Oedema</th>\n",
       "      <th>Oral Lesions</th>\n",
       "      <th>Solitary Lesion</th>\n",
       "      <th>Swollen Tonsils</th>\n",
       "      <th>HIV Infection</th>\n",
       "      <th>Sexually Transmitted Infection</th>\n",
       "      <th>MonkeyPox</th>\n",
       "    </tr>\n",
       "  </thead>\n",
       "  <tbody>\n",
       "    <tr>\n",
       "      <th>1</th>\n",
       "      <td>P1</td>\n",
       "      <td>Fever</td>\n",
       "      <td>True</td>\n",
       "      <td>False</td>\n",
       "      <td>True</td>\n",
       "      <td>True</td>\n",
       "      <td>False</td>\n",
       "      <td>False</td>\n",
       "      <td>True</td>\n",
       "      <td>False</td>\n",
       "      <td>Positive</td>\n",
       "    </tr>\n",
       "    <tr>\n",
       "      <th>2</th>\n",
       "      <td>P2</td>\n",
       "      <td>Fever</td>\n",
       "      <td>False</td>\n",
       "      <td>True</td>\n",
       "      <td>True</td>\n",
       "      <td>False</td>\n",
       "      <td>False</td>\n",
       "      <td>False</td>\n",
       "      <td>True</td>\n",
       "      <td>False</td>\n",
       "      <td>Positive</td>\n",
       "    </tr>\n",
       "    <tr>\n",
       "      <th>3</th>\n",
       "      <td>P3</td>\n",
       "      <td>NaN</td>\n",
       "      <td>True</td>\n",
       "      <td>False</td>\n",
       "      <td>False</td>\n",
       "      <td>False</td>\n",
       "      <td>True</td>\n",
       "      <td>True</td>\n",
       "      <td>True</td>\n",
       "      <td>False</td>\n",
       "      <td>Positive</td>\n",
       "    </tr>\n",
       "    <tr>\n",
       "      <th>4</th>\n",
       "      <td>P4</td>\n",
       "      <td>Swollen Lymph Nodes</td>\n",
       "      <td>True</td>\n",
       "      <td>True</td>\n",
       "      <td>True</td>\n",
       "      <td>False</td>\n",
       "      <td>False</td>\n",
       "      <td>True</td>\n",
       "      <td>True</td>\n",
       "      <td>False</td>\n",
       "      <td>Positive</td>\n",
       "    </tr>\n",
       "    <tr>\n",
       "      <th>6</th>\n",
       "      <td>P6</td>\n",
       "      <td>Fever</td>\n",
       "      <td>False</td>\n",
       "      <td>True</td>\n",
       "      <td>False</td>\n",
       "      <td>False</td>\n",
       "      <td>False</td>\n",
       "      <td>False</td>\n",
       "      <td>True</td>\n",
       "      <td>False</td>\n",
       "      <td>Positive</td>\n",
       "    </tr>\n",
       "  </tbody>\n",
       "</table>\n",
       "</div>"
      ],
      "text/plain": [
       "  Patient_ID     Systemic Illness  Rectal Pain  Sore Throat  Penile Oedema  \\\n",
       "1         P1                Fever         True        False           True   \n",
       "2         P2                Fever        False         True           True   \n",
       "3         P3                  NaN         True        False          False   \n",
       "4         P4  Swollen Lymph Nodes         True         True           True   \n",
       "6         P6                Fever        False         True          False   \n",
       "\n",
       "   Oral Lesions  Solitary Lesion  Swollen Tonsils  HIV Infection  \\\n",
       "1          True            False            False           True   \n",
       "2         False            False            False           True   \n",
       "3         False             True             True           True   \n",
       "4         False            False             True           True   \n",
       "6         False            False            False           True   \n",
       "\n",
       "   Sexually Transmitted Infection MonkeyPox  \n",
       "1                           False  Positive  \n",
       "2                           False  Positive  \n",
       "3                           False  Positive  \n",
       "4                           False  Positive  \n",
       "6                           False  Positive  "
      ]
     },
     "execution_count": 9,
     "metadata": {},
     "output_type": "execute_result"
    }
   ],
   "source": [
    "positive = mp1[mp1['MonkeyPox']=='Positive']\n",
    "positive.head()"
   ]
  },
  {
   "cell_type": "markdown",
   "metadata": {
    "id": "8_CNlYDjYRvh"
   },
   "source": [
    "***cut \"Systemic Illness\" and \"Patient_ID\" column***"
   ]
  },
  {
   "cell_type": "code",
   "execution_count": 10,
   "metadata": {
    "colab": {
     "base_uri": "https://localhost:8080/",
     "height": 458
    },
    "id": "zrK3q52eXwDk",
    "outputId": "9308969f-57b4-4d7c-bcab-73531d898ac7"
   },
   "outputs": [
    {
     "data": {
      "text/html": [
       "<div>\n",
       "<style scoped>\n",
       "    .dataframe tbody tr th:only-of-type {\n",
       "        vertical-align: middle;\n",
       "    }\n",
       "\n",
       "    .dataframe tbody tr th {\n",
       "        vertical-align: top;\n",
       "    }\n",
       "\n",
       "    .dataframe thead th {\n",
       "        text-align: right;\n",
       "    }\n",
       "</style>\n",
       "<table border=\"1\" class=\"dataframe\">\n",
       "  <thead>\n",
       "    <tr style=\"text-align: right;\">\n",
       "      <th></th>\n",
       "      <th>Rectal Pain</th>\n",
       "      <th>Sore Throat</th>\n",
       "      <th>Penile Oedema</th>\n",
       "      <th>Oral Lesions</th>\n",
       "      <th>Solitary Lesion</th>\n",
       "      <th>Swollen Tonsils</th>\n",
       "      <th>HIV Infection</th>\n",
       "      <th>Sexually Transmitted Infection</th>\n",
       "      <th>MonkeyPox</th>\n",
       "    </tr>\n",
       "  </thead>\n",
       "  <tbody>\n",
       "    <tr>\n",
       "      <th>0</th>\n",
       "      <td>False</td>\n",
       "      <td>True</td>\n",
       "      <td>True</td>\n",
       "      <td>True</td>\n",
       "      <td>False</td>\n",
       "      <td>True</td>\n",
       "      <td>False</td>\n",
       "      <td>False</td>\n",
       "      <td>Negative</td>\n",
       "    </tr>\n",
       "    <tr>\n",
       "      <th>1</th>\n",
       "      <td>True</td>\n",
       "      <td>False</td>\n",
       "      <td>True</td>\n",
       "      <td>True</td>\n",
       "      <td>False</td>\n",
       "      <td>False</td>\n",
       "      <td>True</td>\n",
       "      <td>False</td>\n",
       "      <td>Positive</td>\n",
       "    </tr>\n",
       "    <tr>\n",
       "      <th>2</th>\n",
       "      <td>False</td>\n",
       "      <td>True</td>\n",
       "      <td>True</td>\n",
       "      <td>False</td>\n",
       "      <td>False</td>\n",
       "      <td>False</td>\n",
       "      <td>True</td>\n",
       "      <td>False</td>\n",
       "      <td>Positive</td>\n",
       "    </tr>\n",
       "    <tr>\n",
       "      <th>3</th>\n",
       "      <td>True</td>\n",
       "      <td>False</td>\n",
       "      <td>False</td>\n",
       "      <td>False</td>\n",
       "      <td>True</td>\n",
       "      <td>True</td>\n",
       "      <td>True</td>\n",
       "      <td>False</td>\n",
       "      <td>Positive</td>\n",
       "    </tr>\n",
       "    <tr>\n",
       "      <th>4</th>\n",
       "      <td>True</td>\n",
       "      <td>True</td>\n",
       "      <td>True</td>\n",
       "      <td>False</td>\n",
       "      <td>False</td>\n",
       "      <td>True</td>\n",
       "      <td>True</td>\n",
       "      <td>False</td>\n",
       "      <td>Positive</td>\n",
       "    </tr>\n",
       "    <tr>\n",
       "      <th>...</th>\n",
       "      <td>...</td>\n",
       "      <td>...</td>\n",
       "      <td>...</td>\n",
       "      <td>...</td>\n",
       "      <td>...</td>\n",
       "      <td>...</td>\n",
       "      <td>...</td>\n",
       "      <td>...</td>\n",
       "      <td>...</td>\n",
       "    </tr>\n",
       "    <tr>\n",
       "      <th>24995</th>\n",
       "      <td>True</td>\n",
       "      <td>True</td>\n",
       "      <td>False</td>\n",
       "      <td>True</td>\n",
       "      <td>True</td>\n",
       "      <td>False</td>\n",
       "      <td>False</td>\n",
       "      <td>True</td>\n",
       "      <td>Positive</td>\n",
       "    </tr>\n",
       "    <tr>\n",
       "      <th>24996</th>\n",
       "      <td>False</td>\n",
       "      <td>True</td>\n",
       "      <td>True</td>\n",
       "      <td>False</td>\n",
       "      <td>True</td>\n",
       "      <td>True</td>\n",
       "      <td>True</td>\n",
       "      <td>True</td>\n",
       "      <td>Positive</td>\n",
       "    </tr>\n",
       "    <tr>\n",
       "      <th>24997</th>\n",
       "      <td>True</td>\n",
       "      <td>True</td>\n",
       "      <td>False</td>\n",
       "      <td>False</td>\n",
       "      <td>True</td>\n",
       "      <td>True</td>\n",
       "      <td>False</td>\n",
       "      <td>False</td>\n",
       "      <td>Positive</td>\n",
       "    </tr>\n",
       "    <tr>\n",
       "      <th>24998</th>\n",
       "      <td>False</td>\n",
       "      <td>True</td>\n",
       "      <td>False</td>\n",
       "      <td>True</td>\n",
       "      <td>True</td>\n",
       "      <td>True</td>\n",
       "      <td>False</td>\n",
       "      <td>False</td>\n",
       "      <td>Negative</td>\n",
       "    </tr>\n",
       "    <tr>\n",
       "      <th>24999</th>\n",
       "      <td>False</td>\n",
       "      <td>False</td>\n",
       "      <td>True</td>\n",
       "      <td>False</td>\n",
       "      <td>False</td>\n",
       "      <td>True</td>\n",
       "      <td>True</td>\n",
       "      <td>False</td>\n",
       "      <td>Positive</td>\n",
       "    </tr>\n",
       "  </tbody>\n",
       "</table>\n",
       "<p>25000 rows × 9 columns</p>\n",
       "</div>"
      ],
      "text/plain": [
       "       Rectal Pain  Sore Throat  Penile Oedema  Oral Lesions  Solitary Lesion  \\\n",
       "0            False         True           True          True            False   \n",
       "1             True        False           True          True            False   \n",
       "2            False         True           True         False            False   \n",
       "3             True        False          False         False             True   \n",
       "4             True         True           True         False            False   \n",
       "...            ...          ...            ...           ...              ...   \n",
       "24995         True         True          False          True             True   \n",
       "24996        False         True           True         False             True   \n",
       "24997         True         True          False         False             True   \n",
       "24998        False         True          False          True             True   \n",
       "24999        False        False           True         False            False   \n",
       "\n",
       "       Swollen Tonsils  HIV Infection  Sexually Transmitted Infection  \\\n",
       "0                 True          False                           False   \n",
       "1                False           True                           False   \n",
       "2                False           True                           False   \n",
       "3                 True           True                           False   \n",
       "4                 True           True                           False   \n",
       "...                ...            ...                             ...   \n",
       "24995            False          False                            True   \n",
       "24996             True           True                            True   \n",
       "24997             True          False                           False   \n",
       "24998             True          False                           False   \n",
       "24999             True           True                           False   \n",
       "\n",
       "      MonkeyPox  \n",
       "0      Negative  \n",
       "1      Positive  \n",
       "2      Positive  \n",
       "3      Positive  \n",
       "4      Positive  \n",
       "...         ...  \n",
       "24995  Positive  \n",
       "24996  Positive  \n",
       "24997  Positive  \n",
       "24998  Negative  \n",
       "24999  Positive  \n",
       "\n",
       "[25000 rows x 9 columns]"
      ]
     },
     "execution_count": 10,
     "metadata": {},
     "output_type": "execute_result"
    }
   ],
   "source": [
    "mp2 = mp1.drop('Systemic Illness', axis=1)\n",
    "mp3 = mp2.drop('Patient_ID', axis=1)\n",
    "mp3"
   ]
  },
  {
   "cell_type": "markdown",
   "metadata": {},
   "source": [
    "***show 1000 data***"
   ]
  },
  {
   "cell_type": "code",
   "execution_count": 11,
   "metadata": {},
   "outputs": [],
   "source": [
    "mp4 = mp3.head(1000)"
   ]
  },
  {
   "cell_type": "markdown",
   "metadata": {},
   "source": [
    "# Graph"
   ]
  },
  {
   "cell_type": "markdown",
   "metadata": {},
   "source": [
    "**Pie chart for percentage MonkeyPox database**"
   ]
  },
  {
   "cell_type": "code",
   "execution_count": 12,
   "metadata": {},
   "outputs": [],
   "source": [
    "# Uncomment to use this plot\n",
    "\n",
    "# fig = px.pie(mp1, names='MonkeyPox', color='MonkeyPox',\n",
    "#              color_discrete_map={'Positive': 'green', 'Negative': 'red'},\n",
    "#              title=\"Monkeypox Cases\")\n",
    "\n",
    "# fig.update_traces(textfont_size=12, pull=[0.1, 0])\n",
    "# fig.show()"
   ]
  },
  {
   "cell_type": "markdown",
   "metadata": {},
   "source": [
    "**Pie chart for Systemic Illness**"
   ]
  },
  {
   "cell_type": "code",
   "execution_count": 13,
   "metadata": {},
   "outputs": [
    {
     "data": {
      "image/png": "[encoded data removed]",
      "text/plain": [
       "<Figure size 1400x700 with 1 Axes>"
      ]
     },
     "metadata": {},
     "output_type": "display_data"
    }
   ],
   "source": [
    "fig = plt.figure(figsize=(14, 7))\n",
    "plt.pie(x=positive['Systemic Illness'].value_counts(),labels = positive['Systemic Illness'].value_counts().index,autopct='%.0f%%')\n",
    "plt.title('Monkey Pox General Symptomps')\n",
    "plt.show()"
   ]
  },
  {
   "cell_type": "markdown",
   "metadata": {},
   "source": [
    "**Bar chart for every column with filter \"Positive\"**"
   ]
  },
  {
   "cell_type": "code",
   "execution_count": 14,
   "metadata": {},
   "outputs": [],
   "source": [
    "for column in mp3.columns:\n",
    "    value_counts = mp3[column].value_counts()\n",
    "\n",
    "    fig = go.Figure(data=[go.Bar(\n",
    "        x=value_counts.index,\n",
    "        y=value_counts.values,\n",
    "        marker_color=['green' if val == True else 'red' for val in value_counts.index] # Set color based on True/False\n",
    "    )])\n",
    "\n",
    "    fig.update_layout(\n",
    "        title=f'Bar Plot of {column}',\n",
    "        xaxis_title='Value',\n",
    "        yaxis_title='Count'\n",
    "    )\n",
    "\n",
    "# Uncomment to use this plot \"fig.show()\"\n",
    "\n",
    "# fig.show()"
   ]
  },
  {
   "cell_type": "markdown",
   "metadata": {},
   "source": [
    "# Chi Square Test"
   ]
  },
  {
   "cell_type": "markdown",
   "metadata": {},
   "source": [
    "***chi square test -> save to .txt***"
   ]
  },
  {
   "cell_type": "code",
   "execution_count": 15,
   "metadata": {},
   "outputs": [
    {
     "name": "stdout",
     "output_type": "stream",
     "text": [
      "Chi-square test for Rectal Pain vs Monkeypox:\n",
      "Chi-square statistic: 10.2154\n",
      "P-value: 0.0014\n",
      "Not Rejected\n",
      "--------------------------\n",
      "\n",
      "Chi-square test for Sore Throat vs Monkeypox:\n",
      "Chi-square statistic: 0.6272\n",
      "P-value: 0.4284\n",
      "Rejected\n",
      "--------------------------\n",
      "\n",
      "Chi-square test for Penile Oedema vs Monkeypox:\n",
      "Chi-square statistic: 0.5700\n",
      "P-value: 0.4503\n",
      "Rejected\n",
      "--------------------------\n",
      "\n",
      "Chi-square test for Oral Lesions vs Monkeypox:\n",
      "Chi-square statistic: 4.0377\n",
      "P-value: 0.0445\n",
      "Not Rejected\n",
      "--------------------------\n",
      "\n",
      "Chi-square test for Solitary Lesion vs Monkeypox:\n",
      "Chi-square statistic: 3.3682\n",
      "P-value: 0.0665\n",
      "Rejected\n",
      "--------------------------\n",
      "\n",
      "Chi-square test for Swollen Tonsils vs Monkeypox:\n",
      "Chi-square statistic: 0.1859\n",
      "P-value: 0.6664\n",
      "Rejected\n",
      "--------------------------\n",
      "\n",
      "Chi-square test for HIV Infection vs Monkeypox:\n",
      "Chi-square statistic: 14.1338\n",
      "P-value: 0.0002\n",
      "Not Rejected\n",
      "--------------------------\n",
      "\n",
      "Chi-square test for Sexually Transmitted Infection vs Monkeypox:\n",
      "Chi-square statistic: 4.2390\n",
      "P-value: 0.0395\n",
      "Not Rejected\n",
      "--------------------------\n",
      "\n"
     ]
    }
   ],
   "source": [
    "results = []\n",
    "output_file_name = \"chi2_result.txt\"\n",
    "os.makedirs(output_folder, exist_ok=True)\n",
    "output_file_path = os.path.join(output_folder, output_file_name)\n",
    "\n",
    "\n",
    "with open(output_file_path, 'w') as f:\n",
    "    for col in ['Rectal Pain', 'Sore Throat', 'Penile Oedema', 'Oral Lesions', 'Solitary Lesion', 'Swollen Tonsils', 'HIV Infection', 'Sexually Transmitted Infection']:\n",
    "        observed = pd.crosstab(mp4[col], mp4['MonkeyPox'])\n",
    "        chi2, p, dof, expected = chi2_contingency(observed)\n",
    "        \n",
    "        output = f\"Chi-square test for {col} vs Monkeypox:\\n\"\n",
    "        output += f\"Chi-square statistic: {chi2:.4f}\\n\"\n",
    "        output += f\"P-value: {p:.4f}\\n\"\n",
    "        if p <= 0.05:\n",
    "            output += \"Not Rejected\\n\"\n",
    "        else:\n",
    "            output += \"Rejected\\n\"\n",
    "        output += \"--------------------------\\n\"\n",
    "        \n",
    "        print(output)\n",
    "\n",
    "        f.write(output)\n",
    "        \n",
    "        results.append({\"Feature\": col, \"Chi2\": chi2, \"P-value\": p})"
   ]
  },
  {
   "cell_type": "markdown",
   "metadata": {},
   "source": [
    "# Model 1: Random Forest"
   ]
  },
  {
   "cell_type": "markdown",
   "metadata": {},
   "source": [
    "**Model training**"
   ]
  },
  {
   "cell_type": "code",
   "execution_count": 16,
   "metadata": {},
   "outputs": [
    {
     "name": "stdout",
     "output_type": "stream",
     "text": [
      "Accuracy: 0.6704\n",
      "Classification Report:\n",
      "               precision    recall  f1-score   support\n",
      "\n",
      "    Negative       0.58      0.21      0.31      1754\n",
      "    Positive       0.68      0.92      0.78      3246\n",
      "\n",
      "    accuracy                           0.67      5000\n",
      "   macro avg       0.63      0.56      0.55      5000\n",
      "weighted avg       0.65      0.67      0.62      5000\n",
      "\n",
      "                          Feature  Importance\n",
      "2                   HIV Infection    0.409665\n",
      "0                     Rectal Pain    0.299275\n",
      "3  Sexually Transmitted Infection    0.259534\n",
      "1                    Oral Lesions    0.031526\n"
     ]
    },
    {
     "data": {
      "image/png": "[encoded data removed]",
      "text/plain": [
       "<Figure size 800x600 with 2 Axes>"
      ]
     },
     "metadata": {},
     "output_type": "display_data"
    }
   ],
   "source": [
    "X = mp3[['Rectal Pain', 'Oral Lesions', 'HIV Infection', 'Sexually Transmitted Infection']]\n",
    "y = mp3['MonkeyPox']\n",
    "X_train, X_test, y_train, y_test = train_test_split(X, y, test_size=0.2, random_state=42) #80% training\n",
    "rf_model = RandomForestClassifier(n_estimators=1, random_state=42)\n",
    "rf_model.fit(X_train, y_train)\n",
    "y_pred = rf_model.predict(X_test)\n",
    "accuracy = accuracy_score(y_test, y_pred)\n",
    "print(\"Accuracy:\", accuracy)\n",
    "report = classification_report(y_test, y_pred)\n",
    "print(\"Classification Report:\\n\", report)\n",
    "importances = rf_model.feature_importances_\n",
    "feature_importance_df = pd.DataFrame({\n",
    "    'Feature': X.columns,\n",
    "    'Importance': importances})\n",
    "feature_importance_df = feature_importance_df.sort_values(by='Importance', ascending=False)\n",
    "print(feature_importance_df)\n",
    "conf_matrix = confusion_matrix(y_test, y_pred)\n",
    "plt.figure(figsize=(8, 6))\n",
    "sns.heatmap(conf_matrix, annot=True, fmt='d', cmap='Blues', xticklabels=['No MonkeyPox', 'MonkeyPox'], yticklabels=['No MonkeyPox', 'MonkeyPox'])\n",
    "plt.ylabel('Actual')\n",
    "plt.xlabel('Predicted')\n",
    "plt.title('Confusion Matrix Heatmap')\n",
    "plt.show()"
   ]
  },
  {
   "cell_type": "markdown",
   "metadata": {},
   "source": [
    "**Model output using feature importance**"
   ]
  },
  {
   "cell_type": "code",
   "execution_count": 17,
   "metadata": {},
   "outputs": [
    {
     "data": {
      "image/png": "[encoded data removed]",
      "text/plain": [
       "<Figure size 640x480 with 1 Axes>"
      ]
     },
     "metadata": {},
     "output_type": "display_data"
    }
   ],
   "source": [
    "importances = rf_model.feature_importances_\n",
    "indices = np.argsort(importances)[::-1]\n",
    "plt.figure()\n",
    "plt.title(\"Feature Importances\")\n",
    "plt.bar(range(X.shape[1]), importances[indices], align=\"center\")\n",
    "plt.xticks(range(X.shape[1]), np.array(X.columns)[indices], rotation=90)\n",
    "plt.xlim([-1, X.shape[1]])\n",
    "plt.show()"
   ]
  },
  {
   "cell_type": "markdown",
   "metadata": {},
   "source": [
    "**All model accuracy**"
   ]
  },
  {
   "cell_type": "code",
   "execution_count": 18,
   "metadata": {},
   "outputs": [
    {
     "name": "stdout",
     "output_type": "stream",
     "text": [
      "Fitting 3 folds for each of 324 candidates, totalling 972 fits\n",
      "Best Parameters: {'max_depth': None, 'max_features': 'sqrt', 'min_samples_leaf': 1, 'min_samples_split': 2, 'n_estimators': 1}\n",
      "Best Accuracy: 0.6704\n"
     ]
    },
    {
     "name": "stderr",
     "output_type": "stream",
     "text": [
      "c:\\Users\\mwill\\AppData\\Local\\Programs\\Python\\Python311\\Lib\\site-packages\\sklearn\\model_selection\\_validation.py:540: FitFailedWarning:\n",
      "\n",
      "\n",
      "324 fits failed out of a total of 972.\n",
      "The score on these train-test partitions for these parameters will be set to nan.\n",
      "If these failures are not expected, you can try to debug them by setting error_score='raise'.\n",
      "\n",
      "Below are more details about the failures:\n",
      "--------------------------------------------------------------------------------\n",
      "201 fits failed with the following error:\n",
      "Traceback (most recent call last):\n",
      "  File \"c:\\Users\\mwill\\AppData\\Local\\Programs\\Python\\Python311\\Lib\\site-packages\\sklearn\\model_selection\\_validation.py\", line 888, in _fit_and_score\n",
      "    estimator.fit(X_train, y_train, **fit_params)\n",
      "  File \"c:\\Users\\mwill\\AppData\\Local\\Programs\\Python\\Python311\\Lib\\site-packages\\sklearn\\base.py\", line 1466, in wrapper\n",
      "    estimator._validate_params()\n",
      "  File \"c:\\Users\\mwill\\AppData\\Local\\Programs\\Python\\Python311\\Lib\\site-packages\\sklearn\\base.py\", line 666, in _validate_params\n",
      "    validate_parameter_constraints(\n",
      "  File \"c:\\Users\\mwill\\AppData\\Local\\Programs\\Python\\Python311\\Lib\\site-packages\\sklearn\\utils\\_param_validation.py\", line 95, in validate_parameter_constraints\n",
      "    raise InvalidParameterError(\n",
      "sklearn.utils._param_validation.InvalidParameterError: The 'max_features' parameter of RandomForestClassifier must be an int in the range [1, inf), a float in the range (0.0, 1.0], a str among {'sqrt', 'log2'} or None. Got 'auto' instead.\n",
      "\n",
      "--------------------------------------------------------------------------------\n",
      "123 fits failed with the following error:\n",
      "Traceback (most recent call last):\n",
      "  File \"c:\\Users\\mwill\\AppData\\Local\\Programs\\Python\\Python311\\Lib\\site-packages\\sklearn\\model_selection\\_validation.py\", line 888, in _fit_and_score\n",
      "    estimator.fit(X_train, y_train, **fit_params)\n",
      "  File \"c:\\Users\\mwill\\AppData\\Local\\Programs\\Python\\Python311\\Lib\\site-packages\\sklearn\\base.py\", line 1466, in wrapper\n",
      "    estimator._validate_params()\n",
      "  File \"c:\\Users\\mwill\\AppData\\Local\\Programs\\Python\\Python311\\Lib\\site-packages\\sklearn\\base.py\", line 666, in _validate_params\n",
      "    validate_parameter_constraints(\n",
      "  File \"c:\\Users\\mwill\\AppData\\Local\\Programs\\Python\\Python311\\Lib\\site-packages\\sklearn\\utils\\_param_validation.py\", line 95, in validate_parameter_constraints\n",
      "    raise InvalidParameterError(\n",
      "sklearn.utils._param_validation.InvalidParameterError: The 'max_features' parameter of RandomForestClassifier must be an int in the range [1, inf), a float in the range (0.0, 1.0], a str among {'log2', 'sqrt'} or None. Got 'auto' instead.\n",
      "\n",
      "\n",
      "c:\\Users\\mwill\\AppData\\Local\\Programs\\Python\\Python311\\Lib\\site-packages\\sklearn\\model_selection\\_search.py:1103: UserWarning:\n",
      "\n",
      "One or more of the test scores are non-finite: [       nan        nan        nan        nan        nan        nan\n",
      "        nan        nan        nan        nan        nan        nan\n",
      "        nan        nan        nan        nan        nan        nan\n",
      "        nan        nan        nan        nan        nan        nan\n",
      "        nan        nan        nan 0.65980004 0.65980004 0.65980004\n",
      " 0.65980004 0.65980004 0.65980004 0.65980004 0.65980004 0.65980004\n",
      " 0.65980004 0.65980004 0.65980004 0.65980004 0.65980004 0.65980004\n",
      " 0.65980004 0.65980004 0.65980004 0.65980004 0.65980004 0.65980004\n",
      " 0.65980004 0.65980004 0.65980004 0.65980004 0.65980004 0.65980004\n",
      " 0.65980004 0.65980004 0.65980004 0.65980004 0.65980004 0.65980004\n",
      " 0.65980004 0.65980004 0.65980004 0.65980004 0.65980004 0.65980004\n",
      " 0.65980004 0.65980004 0.65980004 0.65980004 0.65980004 0.65980004\n",
      " 0.65980004 0.65980004 0.65980004 0.65980004 0.65980004 0.65980004\n",
      " 0.65980004 0.65980004 0.65980004        nan        nan        nan\n",
      "        nan        nan        nan        nan        nan        nan\n",
      "        nan        nan        nan        nan        nan        nan\n",
      "        nan        nan        nan        nan        nan        nan\n",
      "        nan        nan        nan        nan        nan        nan\n",
      " 0.65980004 0.65980004 0.65980004 0.65980004 0.65980004 0.65980004\n",
      " 0.65980004 0.65980004 0.65980004 0.65980004 0.65980004 0.65980004\n",
      " 0.65980004 0.65980004 0.65980004 0.65980004 0.65980004 0.65980004\n",
      " 0.65980004 0.65980004 0.65980004 0.65980004 0.65980004 0.65980004\n",
      " 0.65980004 0.65980004 0.65980004 0.65980004 0.65980004 0.65980004\n",
      " 0.65980004 0.65980004 0.65980004 0.65980004 0.65980004 0.65980004\n",
      " 0.65980004 0.65980004 0.65980004 0.65980004 0.65980004 0.65980004\n",
      " 0.65980004 0.65980004 0.65980004 0.65980004 0.65980004 0.65980004\n",
      " 0.65980004 0.65980004 0.65980004 0.65980004 0.65980004 0.65980004\n",
      "        nan        nan        nan        nan        nan        nan\n",
      "        nan        nan        nan        nan        nan        nan\n",
      "        nan        nan        nan        nan        nan        nan\n",
      "        nan        nan        nan        nan        nan        nan\n",
      "        nan        nan        nan 0.65980004 0.65980004 0.65980004\n",
      " 0.65980004 0.65980004 0.65980004 0.65980004 0.65980004 0.65980004\n",
      " 0.65980004 0.65980004 0.65980004 0.65980004 0.65980004 0.65980004\n",
      " 0.65980004 0.65980004 0.65980004 0.65980004 0.65980004 0.65980004\n",
      " 0.65980004 0.65980004 0.65980004 0.65980004 0.65980004 0.65980004\n",
      " 0.65980004 0.65980004 0.65980004 0.65980004 0.65980004 0.65980004\n",
      " 0.65980004 0.65980004 0.65980004 0.65980004 0.65980004 0.65980004\n",
      " 0.65980004 0.65980004 0.65980004 0.65980004 0.65980004 0.65980004\n",
      " 0.65980004 0.65980004 0.65980004 0.65980004 0.65980004 0.65980004\n",
      " 0.65980004 0.65980004 0.65980004        nan        nan        nan\n",
      "        nan        nan        nan        nan        nan        nan\n",
      "        nan        nan        nan        nan        nan        nan\n",
      "        nan        nan        nan        nan        nan        nan\n",
      "        nan        nan        nan        nan        nan        nan\n",
      " 0.65980004 0.65980004 0.65980004 0.65980004 0.65980004 0.65980004\n",
      " 0.65980004 0.65980004 0.65980004 0.65980004 0.65980004 0.65980004\n",
      " 0.65980004 0.65980004 0.65980004 0.65980004 0.65980004 0.65980004\n",
      " 0.65980004 0.65980004 0.65980004 0.65980004 0.65980004 0.65980004\n",
      " 0.65980004 0.65980004 0.65980004 0.65980004 0.65980004 0.65980004\n",
      " 0.65980004 0.65980004 0.65980004 0.65980004 0.65980004 0.65980004\n",
      " 0.65980004 0.65980004 0.65980004 0.65980004 0.65980004 0.65980004\n",
      " 0.65980004 0.65980004 0.65980004 0.65980004 0.65980004 0.65980004\n",
      " 0.65980004 0.65980004 0.65980004 0.65980004 0.65980004 0.65980004]\n",
      "\n"
     ]
    }
   ],
   "source": [
    "from sklearn.model_selection import GridSearchCV\n",
    "\n",
    "# Define the parameter grid\n",
    "param_grid = {\n",
    "    'n_estimators': [1, 2, 3],\n",
    "    'max_features': ['auto', 'sqrt', 'log2'],\n",
    "    'max_depth': [None, 10, 20, 30],\n",
    "    'min_samples_split': [2, 5, 10],\n",
    "    'min_samples_leaf': [1, 2, 4]\n",
    "}\n",
    "\n",
    "# Create a GridSearchCV object\n",
    "grid_search = GridSearchCV(estimator=rf_model, param_grid=param_grid, \n",
    "                           cv=3, n_jobs=-1, verbose=2)\n",
    "\n",
    "# Fit the model to the training data\n",
    "grid_search.fit(X_train, y_train)\n",
    "\n",
    "# Get the best parameters\n",
    "best_params = grid_search.best_params_\n",
    "print(\"Best Parameters:\", best_params)\n",
    "\n",
    "# Train the model with the best parameters\n",
    "best_rf_model = RandomForestClassifier(**best_params, random_state=42)\n",
    "best_rf_model.fit(X_train, y_train)\n",
    "\n",
    "# Make predictions with the best model\n",
    "best_y_pred = best_rf_model.predict(X_test)\n",
    "\n",
    "# Evaluate the best model's accuracy\n",
    "best_accuracy = accuracy_score(y_test, best_y_pred)\n",
    "print(\"Best Accuracy:\", best_accuracy)"
   ]
  },
  {
   "cell_type": "markdown",
   "metadata": {},
   "source": [
    "# Model 2: Logistic Regression"
   ]
  },
  {
   "cell_type": "markdown",
   "metadata": {},
   "source": [
    "**Replacing X value to 1 and 0**"
   ]
  },
  {
   "cell_type": "code",
   "execution_count": 19,
   "metadata": {},
   "outputs": [
    {
     "name": "stderr",
     "output_type": "stream",
     "text": [
      "C:\\Users\\mwill\\AppData\\Local\\Temp\\ipykernel_48476\\1915547027.py:2: FutureWarning:\n",
      "\n",
      "Downcasting behavior in `replace` is deprecated and will be removed in a future version. To retain the old behavior, explicitly call `result.infer_objects(copy=False)`. To opt-in to the future behavior, set `pd.set_option('future.no_silent_downcasting', True)`\n",
      "\n"
     ]
    },
    {
     "data": {
      "text/html": [
       "<div>\n",
       "<style scoped>\n",
       "    .dataframe tbody tr th:only-of-type {\n",
       "        vertical-align: middle;\n",
       "    }\n",
       "\n",
       "    .dataframe tbody tr th {\n",
       "        vertical-align: top;\n",
       "    }\n",
       "\n",
       "    .dataframe thead th {\n",
       "        text-align: right;\n",
       "    }\n",
       "</style>\n",
       "<table border=\"1\" class=\"dataframe\">\n",
       "  <thead>\n",
       "    <tr style=\"text-align: right;\">\n",
       "      <th></th>\n",
       "      <th>Rectal Pain</th>\n",
       "      <th>Sore Throat</th>\n",
       "      <th>Penile Oedema</th>\n",
       "      <th>Oral Lesions</th>\n",
       "      <th>Solitary Lesion</th>\n",
       "      <th>Swollen Tonsils</th>\n",
       "      <th>HIV Infection</th>\n",
       "      <th>Sexually Transmitted Infection</th>\n",
       "      <th>MonkeyPox</th>\n",
       "    </tr>\n",
       "  </thead>\n",
       "  <tbody>\n",
       "    <tr>\n",
       "      <th>0</th>\n",
       "      <td>0</td>\n",
       "      <td>1</td>\n",
       "      <td>1</td>\n",
       "      <td>1</td>\n",
       "      <td>0</td>\n",
       "      <td>1</td>\n",
       "      <td>0</td>\n",
       "      <td>0</td>\n",
       "      <td>Negative</td>\n",
       "    </tr>\n",
       "    <tr>\n",
       "      <th>1</th>\n",
       "      <td>1</td>\n",
       "      <td>0</td>\n",
       "      <td>1</td>\n",
       "      <td>1</td>\n",
       "      <td>0</td>\n",
       "      <td>0</td>\n",
       "      <td>1</td>\n",
       "      <td>0</td>\n",
       "      <td>Positive</td>\n",
       "    </tr>\n",
       "    <tr>\n",
       "      <th>2</th>\n",
       "      <td>0</td>\n",
       "      <td>1</td>\n",
       "      <td>1</td>\n",
       "      <td>0</td>\n",
       "      <td>0</td>\n",
       "      <td>0</td>\n",
       "      <td>1</td>\n",
       "      <td>0</td>\n",
       "      <td>Positive</td>\n",
       "    </tr>\n",
       "    <tr>\n",
       "      <th>3</th>\n",
       "      <td>1</td>\n",
       "      <td>0</td>\n",
       "      <td>0</td>\n",
       "      <td>0</td>\n",
       "      <td>1</td>\n",
       "      <td>1</td>\n",
       "      <td>1</td>\n",
       "      <td>0</td>\n",
       "      <td>Positive</td>\n",
       "    </tr>\n",
       "    <tr>\n",
       "      <th>4</th>\n",
       "      <td>1</td>\n",
       "      <td>1</td>\n",
       "      <td>1</td>\n",
       "      <td>0</td>\n",
       "      <td>0</td>\n",
       "      <td>1</td>\n",
       "      <td>1</td>\n",
       "      <td>0</td>\n",
       "      <td>Positive</td>\n",
       "    </tr>\n",
       "  </tbody>\n",
       "</table>\n",
       "</div>"
      ],
      "text/plain": [
       "   Rectal Pain  Sore Throat  Penile Oedema  Oral Lesions  Solitary Lesion  \\\n",
       "0            0            1              1             1                0   \n",
       "1            1            0              1             1                0   \n",
       "2            0            1              1             0                0   \n",
       "3            1            0              0             0                1   \n",
       "4            1            1              1             0                0   \n",
       "\n",
       "   Swollen Tonsils  HIV Infection  Sexually Transmitted Infection MonkeyPox  \n",
       "0                1              0                               0  Negative  \n",
       "1                0              1                               0  Positive  \n",
       "2                0              1                               0  Positive  \n",
       "3                1              1                               0  Positive  \n",
       "4                1              1                               0  Positive  "
      ]
     },
     "execution_count": 19,
     "metadata": {},
     "output_type": "execute_result"
    }
   ],
   "source": [
    "mp6 = mp3\n",
    "mp6 = mp6.replace({True: 1, False: 0})\n",
    "mp6.head()"
   ]
  },
  {
   "cell_type": "code",
   "execution_count": 20,
   "metadata": {},
   "outputs": [],
   "source": [
    "if X.isnull().values.any() or y.isnull().values.any():\n",
    "    X = X.dropna()\n",
    "    y = y[X.index]"
   ]
  },
  {
   "cell_type": "markdown",
   "metadata": {},
   "source": [
    "**Model Training**"
   ]
  },
  {
   "cell_type": "code",
   "execution_count": 21,
   "metadata": {},
   "outputs": [
    {
     "name": "stdout",
     "output_type": "stream",
     "text": [
      "Accuracy: 0.67\n",
      "Classification Report:\n",
      "              precision    recall  f1-score   support\n",
      "\n",
      "           0       0.58      0.21      0.31      1754\n",
      "           1       0.68      0.92      0.78      3246\n",
      "\n",
      "    accuracy                           0.67      5000\n",
      "   macro avg       0.63      0.56      0.55      5000\n",
      "weighted avg       0.65      0.67      0.62      5000\n",
      "\n",
      "Optimization terminated successfully.\n",
      "         Current function value: 0.625286\n",
      "         Iterations 5\n",
      "P-values:\n",
      "const                              1.583053e-43\n",
      "Rectal Pain                       8.580552e-111\n",
      "Oral Lesions                       5.497034e-18\n",
      "HIV Infection                     7.852346e-121\n",
      "Sexually Transmitted Infection     1.426477e-87\n",
      "dtype: float64\n",
      "Feature Importance:\n",
      "                          Feature  Importance\n",
      "2                   HIV Infection    0.650406\n",
      "0                     Rectal Pain    0.587130\n",
      "3  Sexually Transmitted Infection    0.544028\n",
      "1                    Oral Lesions    0.224344\n"
     ]
    }
   ],
   "source": [
    "# Assuming mp3 is already defined as your DataFrame\n",
    "X = mp6[['Rectal Pain', 'Oral Lesions', 'HIV Infection', 'Sexually Transmitted Infection']]\n",
    "y = mp6['MonkeyPox']\n",
    "y = y.map({'Positive': 1, 'Negative': 0})\n",
    "\n",
    "X_train, X_test, y_train, y_test = train_test_split(X, y, test_size=0.2, random_state=42)\n",
    "model = LogisticRegression()\n",
    "model.fit(X_train, y_train)\n",
    "\n",
    "y_pred = model.predict(X_test)\n",
    "accuracy = accuracy_score(y_test, y_pred)\n",
    "print(f'Accuracy: {accuracy:.2f}')\n",
    "\n",
    "report = classification_report(y_test, y_pred)\n",
    "print('Classification Report:')\n",
    "print(report)\n",
    "\n",
    "X_with_const = sm.add_constant(X)\n",
    "logit_model = sm.Logit(y, X_with_const)\n",
    "result = logit_model.fit()\n",
    "print('P-values:')\n",
    "print(result.pvalues)\n",
    "\n",
    "importance = model.coef_[0]\n",
    "feature_importance = pd.DataFrame({'Feature': X.columns, 'Importance': importance})\n",
    "feature_importance['Importance'] = np.abs(feature_importance['Importance'])\n",
    "feature_importance = feature_importance.sort_values(by='Importance', ascending=False)\n",
    "\n",
    "print('Feature Importance:')\n",
    "print(feature_importance)"
   ]
  },
  {
   "cell_type": "markdown",
   "metadata": {},
   "source": [
    "# Mosaic Plot"
   ]
  },
  {
   "cell_type": "code",
   "execution_count": 22,
   "metadata": {},
   "outputs": [
    {
     "data": {
      "image/png": "[encoded data removed]",
      "text/plain": [
       "<Figure size 640x480 with 3 Axes>"
      ]
     },
     "metadata": {},
     "output_type": "display_data"
    },
    {
     "data": {
      "image/png": "[encoded data removed]",
      "text/plain": [
       "<Figure size 640x480 with 3 Axes>"
      ]
     },
     "metadata": {},
     "output_type": "display_data"
    },
    {
     "data": {
      "image/png": "[encoded data removed]",
      "text/plain": [
       "<Figure size 640x480 with 3 Axes>"
      ]
     },
     "metadata": {},
     "output_type": "display_data"
    },
    {
     "data": {
      "image/png": "[encoded data removed]",
      "text/plain": [
       "<Figure size 640x480 with 3 Axes>"
      ]
     },
     "metadata": {},
     "output_type": "display_data"
    }
   ],
   "source": [
    "from statsmodels.graphics.mosaicplot import mosaic\n",
    "\n",
    "import matplotlib.pyplot as plt\n",
    "\n",
    "# Create a mosaic plot for 'Sore Throat' vs 'MonkeyPox'\n",
    "mosaic(mp3, ['Sore Throat', 'MonkeyPox'], title='Mosaic Plot of Sore Throat vs MonkeyPox')\n",
    "mosaic(mp3, ['Penile Oedema', 'MonkeyPox'], title='Mosaic Plot of Penile Oedema vs MonkeyPox')\n",
    "mosaic(mp3, ['Solitary Lesion', 'MonkeyPox'], title='Mosaic Plot of Solitary Lesion vs MonkeyPox')\n",
    "mosaic(mp3, ['Swollen Tonsils', 'MonkeyPox'], title='Mosaic Plot of Swollen Tonsils vs MonkeyPox')\n",
    "plt.show()"
   ]
  }
 ],
 "metadata": {
  "colab": {
   "provenance": []
  },
  "kernelspec": {
   "display_name": "Python 3",
   "name": "python3"
  },
  "language_info": {
   "codemirror_mode": {
    "name": "ipython",
    "version": 3
   },
   "file_extension": ".py",
   "mimetype": "text/x-python",
   "name": "python",
   "nbconvert_exporter": "python",
   "pygments_lexer": "ipython3",
   "version": "3.11.0"
  }
 },
 "nbformat": 4,
 "nbformat_minor": 0
}
